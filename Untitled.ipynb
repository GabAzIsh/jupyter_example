{
 "cells": [
  {
   "cell_type": "markdown",
   "metadata": {},
   "source": [
    "Import Libraries used in project"
   ]
  },
  {
   "cell_type": "code",
   "execution_count": 1,
   "metadata": {},
   "outputs": [],
   "source": [
    "import pandas as pd\n",
    "import seaborn\n",
    "from datetime import datetime"
   ]
  },
  {
   "cell_type": "markdown",
   "metadata": {},
   "source": [
    "input data for filter"
   ]
  },
  {
   "cell_type": "code",
   "execution_count": 66,
   "metadata": {},
   "outputs": [],
   "source": [
    "start_date = '2017-01-03 00:00:00' # format YYYY-MM-DD HH:MM:SS\n",
    "end_date = '2017-01-20 00:00:00'\n",
    "more_than_point = -12\n",
    "less_than_point = 400"
   ]
  },
  {
   "cell_type": "markdown",
   "metadata": {},
   "source": [
    "import from CSV-file"
   ]
  },
  {
   "cell_type": "code",
   "execution_count": 67,
   "metadata": {},
   "outputs": [],
   "source": [
    "date = pd.to_datetime([start_date, end_date], format=\"%Y-%m-%d %H:%M:%S\")"
   ]
  },
  {
   "cell_type": "code",
   "execution_count": 68,
   "metadata": {},
   "outputs": [],
   "source": [
    "# column dictonary for information\n",
    "column_dict = {\n",
    "    'ACCOUNT_RK': 'номер договора',\n",
    "    'INTERNAL_ORG_ORIGINAL_RK': 'номер точки продажи (POS)',\n",
    "    'LOAN_AMOUNT': 'сумма кредита',\n",
    "    'APPLICATION_DT': 'дата' \n",
    "}"
   ]
  },
  {
   "cell_type": "code",
   "execution_count": 69,
   "metadata": {},
   "outputs": [],
   "source": [
    "data = pd.read_csv('data.csv', sep=';')"
   ]
  },
  {
   "cell_type": "code",
   "execution_count": 70,
   "metadata": {},
   "outputs": [],
   "source": [
    "data['APPLICATION_DT'] = data['APPLICATION_DT'].astype('datetime64')\n",
    "data['LOAN_AMOUNT'] *= 100\n",
    "data['LOAN_AMOUNT'] = data['LOAN_AMOUNT'].astype('int')"
   ]
  },
  {
   "cell_type": "markdown",
   "metadata": {},
   "source": [
    "Table filtering"
   ]
  },
  {
   "cell_type": "code",
   "execution_count": 71,
   "metadata": {},
   "outputs": [],
   "source": [
    "date_filter = (data['APPLICATION_DT'] > start_date) & (data['APPLICATION_DT'] <= end_date)\n",
    "point_filter = data['INTERNAL_ORG_ORIGINAL_RK'].between(more_than_point, less_than_point)\n",
    "data = data.loc[date_filter & point_filter]"
   ]
  },
  {
   "cell_type": "code",
   "execution_count": 72,
   "metadata": {},
   "outputs": [
    {
     "data": {
      "text/html": [
       "<div>\n",
       "<style scoped>\n",
       "    .dataframe tbody tr th:only-of-type {\n",
       "        vertical-align: middle;\n",
       "    }\n",
       "\n",
       "    .dataframe tbody tr th {\n",
       "        vertical-align: top;\n",
       "    }\n",
       "\n",
       "    .dataframe thead th {\n",
       "        text-align: right;\n",
       "    }\n",
       "</style>\n",
       "<table border=\"1\" class=\"dataframe\">\n",
       "  <thead>\n",
       "    <tr style=\"text-align: right;\">\n",
       "      <th></th>\n",
       "      <th>ACCOUNT_RK</th>\n",
       "      <th>INTERNAL_ORG_ORIGINAL_RK</th>\n",
       "      <th>LOAN_AMOUNT</th>\n",
       "      <th>APPLICATION_DT</th>\n",
       "    </tr>\n",
       "  </thead>\n",
       "  <tbody>\n",
       "    <tr>\n",
       "      <th>33</th>\n",
       "      <td>-61084983</td>\n",
       "      <td>-1</td>\n",
       "      <td>56300000</td>\n",
       "      <td>2017-01-10</td>\n",
       "    </tr>\n",
       "    <tr>\n",
       "      <th>38</th>\n",
       "      <td>-60262994</td>\n",
       "      <td>75</td>\n",
       "      <td>600000</td>\n",
       "      <td>2017-01-18</td>\n",
       "    </tr>\n",
       "    <tr>\n",
       "      <th>39</th>\n",
       "      <td>30136052</td>\n",
       "      <td>75</td>\n",
       "      <td>499900</td>\n",
       "      <td>2017-01-18</td>\n",
       "    </tr>\n",
       "    <tr>\n",
       "      <th>76</th>\n",
       "      <td>-61093136</td>\n",
       "      <td>-1</td>\n",
       "      <td>42931699</td>\n",
       "      <td>2017-01-18</td>\n",
       "    </tr>\n",
       "    <tr>\n",
       "      <th>77</th>\n",
       "      <td>-61093057</td>\n",
       "      <td>-1</td>\n",
       "      <td>53285177</td>\n",
       "      <td>2017-01-18</td>\n",
       "    </tr>\n",
       "    <tr>\n",
       "      <th>...</th>\n",
       "      <td>...</td>\n",
       "      <td>...</td>\n",
       "      <td>...</td>\n",
       "      <td>...</td>\n",
       "    </tr>\n",
       "    <tr>\n",
       "      <th>9118</th>\n",
       "      <td>-60219644</td>\n",
       "      <td>123</td>\n",
       "      <td>25000000</td>\n",
       "      <td>2017-01-14</td>\n",
       "    </tr>\n",
       "    <tr>\n",
       "      <th>9231</th>\n",
       "      <td>-61097056</td>\n",
       "      <td>-1</td>\n",
       "      <td>72205245</td>\n",
       "      <td>2017-01-20</td>\n",
       "    </tr>\n",
       "    <tr>\n",
       "      <th>9450</th>\n",
       "      <td>-61091156</td>\n",
       "      <td>-1</td>\n",
       "      <td>69490000</td>\n",
       "      <td>2017-01-16</td>\n",
       "    </tr>\n",
       "    <tr>\n",
       "      <th>9774</th>\n",
       "      <td>-60272513</td>\n",
       "      <td>113</td>\n",
       "      <td>12100000</td>\n",
       "      <td>2017-01-19</td>\n",
       "    </tr>\n",
       "    <tr>\n",
       "      <th>9954</th>\n",
       "      <td>-61081542</td>\n",
       "      <td>-1</td>\n",
       "      <td>53560000</td>\n",
       "      <td>2017-01-04</td>\n",
       "    </tr>\n",
       "  </tbody>\n",
       "</table>\n",
       "<p>87 rows × 4 columns</p>\n",
       "</div>"
      ],
      "text/plain": [
       "      ACCOUNT_RK  INTERNAL_ORG_ORIGINAL_RK  LOAN_AMOUNT APPLICATION_DT\n",
       "33     -61084983                        -1     56300000     2017-01-10\n",
       "38     -60262994                        75       600000     2017-01-18\n",
       "39      30136052                        75       499900     2017-01-18\n",
       "76     -61093136                        -1     42931699     2017-01-18\n",
       "77     -61093057                        -1     53285177     2017-01-18\n",
       "...          ...                       ...          ...            ...\n",
       "9118   -60219644                       123     25000000     2017-01-14\n",
       "9231   -61097056                        -1     72205245     2017-01-20\n",
       "9450   -61091156                        -1     69490000     2017-01-16\n",
       "9774   -60272513                       113     12100000     2017-01-19\n",
       "9954   -61081542                        -1     53560000     2017-01-04\n",
       "\n",
       "[87 rows x 4 columns]"
      ]
     },
     "execution_count": 72,
     "metadata": {},
     "output_type": "execute_result"
    }
   ],
   "source": [
    "data"
   ]
  },
  {
   "cell_type": "code",
   "execution_count": 73,
   "metadata": {},
   "outputs": [],
   "source": [
    "grouped_data = data.groupby(['APPLICATION_DT', 'INTERNAL_ORG_ORIGINAL_RK']).sum()"
   ]
  },
  {
   "cell_type": "code",
   "execution_count": 74,
   "metadata": {},
   "outputs": [],
   "source": [
    "grouped_data = grouped_data.reset_index() "
   ]
  },
  {
   "cell_type": "code",
   "execution_count": 75,
   "metadata": {},
   "outputs": [],
   "source": [
    "new_table = grouped_data.pivot(index='APPLICATION_DT', columns='INTERNAL_ORG_ORIGINAL_RK', values='LOAN_AMOUNT')"
   ]
  },
  {
   "cell_type": "code",
   "execution_count": 76,
   "metadata": {},
   "outputs": [],
   "source": [
    "new_table['sum'] = new_table.sum(axis=1)"
   ]
  },
  {
   "cell_type": "code",
   "execution_count": 77,
   "metadata": {},
   "outputs": [],
   "source": [
    "a = [new_table.insert((new_table.columns.get_loc(col_name)+1), f'% for {col_name}', new_table[col_name]/new_table['sum'])  for col_name in new_table.columns if col_name != 'sum']"
   ]
  },
  {
   "cell_type": "code",
   "execution_count": 78,
   "metadata": {},
   "outputs": [
    {
     "data": {
      "text/html": [
       "<div>\n",
       "<style scoped>\n",
       "    .dataframe tbody tr th:only-of-type {\n",
       "        vertical-align: middle;\n",
       "    }\n",
       "\n",
       "    .dataframe tbody tr th {\n",
       "        vertical-align: top;\n",
       "    }\n",
       "\n",
       "    .dataframe thead th {\n",
       "        text-align: right;\n",
       "    }\n",
       "</style>\n",
       "<table border=\"1\" class=\"dataframe\">\n",
       "  <thead>\n",
       "    <tr style=\"text-align: right;\">\n",
       "      <th>INTERNAL_ORG_ORIGINAL_RK</th>\n",
       "      <th>% for -1</th>\n",
       "      <th>% for 75</th>\n",
       "      <th>% for 84</th>\n",
       "      <th>% for 113</th>\n",
       "      <th>% for 118</th>\n",
       "      <th>% for 123</th>\n",
       "      <th>% for 125</th>\n",
       "      <th>% for 127</th>\n",
       "      <th>% for 132</th>\n",
       "      <th>% for 139</th>\n",
       "      <th>% for 145</th>\n",
       "    </tr>\n",
       "    <tr>\n",
       "      <th>APPLICATION_DT</th>\n",
       "      <th></th>\n",
       "      <th></th>\n",
       "      <th></th>\n",
       "      <th></th>\n",
       "      <th></th>\n",
       "      <th></th>\n",
       "      <th></th>\n",
       "      <th></th>\n",
       "      <th></th>\n",
       "      <th></th>\n",
       "      <th></th>\n",
       "    </tr>\n",
       "  </thead>\n",
       "  <tbody>\n",
       "    <tr>\n",
       "      <th>2017-01-04</th>\n",
       "      <td>0.992926</td>\n",
       "      <td>NaN</td>\n",
       "      <td>NaN</td>\n",
       "      <td>NaN</td>\n",
       "      <td>0.007074</td>\n",
       "      <td>NaN</td>\n",
       "      <td>NaN</td>\n",
       "      <td>NaN</td>\n",
       "      <td>NaN</td>\n",
       "      <td>NaN</td>\n",
       "      <td>NaN</td>\n",
       "    </tr>\n",
       "    <tr>\n",
       "      <th>2017-01-05</th>\n",
       "      <td>1.000000</td>\n",
       "      <td>NaN</td>\n",
       "      <td>NaN</td>\n",
       "      <td>NaN</td>\n",
       "      <td>NaN</td>\n",
       "      <td>NaN</td>\n",
       "      <td>NaN</td>\n",
       "      <td>NaN</td>\n",
       "      <td>NaN</td>\n",
       "      <td>NaN</td>\n",
       "      <td>NaN</td>\n",
       "    </tr>\n",
       "    <tr>\n",
       "      <th>2017-01-06</th>\n",
       "      <td>0.990662</td>\n",
       "      <td>NaN</td>\n",
       "      <td>NaN</td>\n",
       "      <td>NaN</td>\n",
       "      <td>0.009338</td>\n",
       "      <td>NaN</td>\n",
       "      <td>NaN</td>\n",
       "      <td>NaN</td>\n",
       "      <td>NaN</td>\n",
       "      <td>NaN</td>\n",
       "      <td>NaN</td>\n",
       "    </tr>\n",
       "    <tr>\n",
       "      <th>2017-01-09</th>\n",
       "      <td>0.981579</td>\n",
       "      <td>NaN</td>\n",
       "      <td>0.018421</td>\n",
       "      <td>NaN</td>\n",
       "      <td>NaN</td>\n",
       "      <td>NaN</td>\n",
       "      <td>NaN</td>\n",
       "      <td>NaN</td>\n",
       "      <td>NaN</td>\n",
       "      <td>NaN</td>\n",
       "      <td>NaN</td>\n",
       "    </tr>\n",
       "    <tr>\n",
       "      <th>2017-01-10</th>\n",
       "      <td>1.000000</td>\n",
       "      <td>NaN</td>\n",
       "      <td>NaN</td>\n",
       "      <td>NaN</td>\n",
       "      <td>NaN</td>\n",
       "      <td>NaN</td>\n",
       "      <td>NaN</td>\n",
       "      <td>NaN</td>\n",
       "      <td>NaN</td>\n",
       "      <td>NaN</td>\n",
       "      <td>NaN</td>\n",
       "    </tr>\n",
       "    <tr>\n",
       "      <th>2017-01-11</th>\n",
       "      <td>0.419752</td>\n",
       "      <td>0.580248</td>\n",
       "      <td>NaN</td>\n",
       "      <td>NaN</td>\n",
       "      <td>NaN</td>\n",
       "      <td>NaN</td>\n",
       "      <td>NaN</td>\n",
       "      <td>NaN</td>\n",
       "      <td>NaN</td>\n",
       "      <td>NaN</td>\n",
       "      <td>NaN</td>\n",
       "    </tr>\n",
       "    <tr>\n",
       "      <th>2017-01-12</th>\n",
       "      <td>1.000000</td>\n",
       "      <td>NaN</td>\n",
       "      <td>NaN</td>\n",
       "      <td>NaN</td>\n",
       "      <td>NaN</td>\n",
       "      <td>NaN</td>\n",
       "      <td>NaN</td>\n",
       "      <td>NaN</td>\n",
       "      <td>NaN</td>\n",
       "      <td>NaN</td>\n",
       "      <td>NaN</td>\n",
       "    </tr>\n",
       "    <tr>\n",
       "      <th>2017-01-13</th>\n",
       "      <td>0.906735</td>\n",
       "      <td>NaN</td>\n",
       "      <td>NaN</td>\n",
       "      <td>NaN</td>\n",
       "      <td>NaN</td>\n",
       "      <td>NaN</td>\n",
       "      <td>NaN</td>\n",
       "      <td>0.072483</td>\n",
       "      <td>NaN</td>\n",
       "      <td>0.020782</td>\n",
       "      <td>NaN</td>\n",
       "    </tr>\n",
       "    <tr>\n",
       "      <th>2017-01-14</th>\n",
       "      <td>0.589691</td>\n",
       "      <td>NaN</td>\n",
       "      <td>NaN</td>\n",
       "      <td>NaN</td>\n",
       "      <td>NaN</td>\n",
       "      <td>0.300462</td>\n",
       "      <td>NaN</td>\n",
       "      <td>NaN</td>\n",
       "      <td>NaN</td>\n",
       "      <td>0.109847</td>\n",
       "      <td>NaN</td>\n",
       "    </tr>\n",
       "    <tr>\n",
       "      <th>2017-01-16</th>\n",
       "      <td>0.980043</td>\n",
       "      <td>NaN</td>\n",
       "      <td>NaN</td>\n",
       "      <td>NaN</td>\n",
       "      <td>NaN</td>\n",
       "      <td>NaN</td>\n",
       "      <td>NaN</td>\n",
       "      <td>NaN</td>\n",
       "      <td>0.019957</td>\n",
       "      <td>NaN</td>\n",
       "      <td>NaN</td>\n",
       "    </tr>\n",
       "    <tr>\n",
       "      <th>2017-01-17</th>\n",
       "      <td>0.911133</td>\n",
       "      <td>NaN</td>\n",
       "      <td>NaN</td>\n",
       "      <td>NaN</td>\n",
       "      <td>NaN</td>\n",
       "      <td>0.088867</td>\n",
       "      <td>NaN</td>\n",
       "      <td>NaN</td>\n",
       "      <td>NaN</td>\n",
       "      <td>NaN</td>\n",
       "      <td>NaN</td>\n",
       "    </tr>\n",
       "    <tr>\n",
       "      <th>2017-01-18</th>\n",
       "      <td>0.996751</td>\n",
       "      <td>0.003249</td>\n",
       "      <td>NaN</td>\n",
       "      <td>NaN</td>\n",
       "      <td>NaN</td>\n",
       "      <td>NaN</td>\n",
       "      <td>NaN</td>\n",
       "      <td>NaN</td>\n",
       "      <td>NaN</td>\n",
       "      <td>NaN</td>\n",
       "      <td>NaN</td>\n",
       "    </tr>\n",
       "    <tr>\n",
       "      <th>2017-01-19</th>\n",
       "      <td>0.929222</td>\n",
       "      <td>NaN</td>\n",
       "      <td>NaN</td>\n",
       "      <td>0.04407</td>\n",
       "      <td>0.026709</td>\n",
       "      <td>NaN</td>\n",
       "      <td>NaN</td>\n",
       "      <td>NaN</td>\n",
       "      <td>NaN</td>\n",
       "      <td>NaN</td>\n",
       "      <td>NaN</td>\n",
       "    </tr>\n",
       "    <tr>\n",
       "      <th>2017-01-20</th>\n",
       "      <td>0.463302</td>\n",
       "      <td>NaN</td>\n",
       "      <td>NaN</td>\n",
       "      <td>NaN</td>\n",
       "      <td>0.045558</td>\n",
       "      <td>NaN</td>\n",
       "      <td>0.01377</td>\n",
       "      <td>NaN</td>\n",
       "      <td>NaN</td>\n",
       "      <td>NaN</td>\n",
       "      <td>0.47737</td>\n",
       "    </tr>\n",
       "  </tbody>\n",
       "</table>\n",
       "</div>"
      ],
      "text/plain": [
       "INTERNAL_ORG_ORIGINAL_RK  % for -1  % for 75  % for 84  % for 113  % for 118  \\\n",
       "APPLICATION_DT                                                                 \n",
       "2017-01-04                0.992926       NaN       NaN        NaN   0.007074   \n",
       "2017-01-05                1.000000       NaN       NaN        NaN        NaN   \n",
       "2017-01-06                0.990662       NaN       NaN        NaN   0.009338   \n",
       "2017-01-09                0.981579       NaN  0.018421        NaN        NaN   \n",
       "2017-01-10                1.000000       NaN       NaN        NaN        NaN   \n",
       "2017-01-11                0.419752  0.580248       NaN        NaN        NaN   \n",
       "2017-01-12                1.000000       NaN       NaN        NaN        NaN   \n",
       "2017-01-13                0.906735       NaN       NaN        NaN        NaN   \n",
       "2017-01-14                0.589691       NaN       NaN        NaN        NaN   \n",
       "2017-01-16                0.980043       NaN       NaN        NaN        NaN   \n",
       "2017-01-17                0.911133       NaN       NaN        NaN        NaN   \n",
       "2017-01-18                0.996751  0.003249       NaN        NaN        NaN   \n",
       "2017-01-19                0.929222       NaN       NaN    0.04407   0.026709   \n",
       "2017-01-20                0.463302       NaN       NaN        NaN   0.045558   \n",
       "\n",
       "INTERNAL_ORG_ORIGINAL_RK  % for 123  % for 125  % for 127  % for 132  \\\n",
       "APPLICATION_DT                                                         \n",
       "2017-01-04                      NaN        NaN        NaN        NaN   \n",
       "2017-01-05                      NaN        NaN        NaN        NaN   \n",
       "2017-01-06                      NaN        NaN        NaN        NaN   \n",
       "2017-01-09                      NaN        NaN        NaN        NaN   \n",
       "2017-01-10                      NaN        NaN        NaN        NaN   \n",
       "2017-01-11                      NaN        NaN        NaN        NaN   \n",
       "2017-01-12                      NaN        NaN        NaN        NaN   \n",
       "2017-01-13                      NaN        NaN   0.072483        NaN   \n",
       "2017-01-14                 0.300462        NaN        NaN        NaN   \n",
       "2017-01-16                      NaN        NaN        NaN   0.019957   \n",
       "2017-01-17                 0.088867        NaN        NaN        NaN   \n",
       "2017-01-18                      NaN        NaN        NaN        NaN   \n",
       "2017-01-19                      NaN        NaN        NaN        NaN   \n",
       "2017-01-20                      NaN    0.01377        NaN        NaN   \n",
       "\n",
       "INTERNAL_ORG_ORIGINAL_RK  % for 139  % for 145  \n",
       "APPLICATION_DT                                  \n",
       "2017-01-04                      NaN        NaN  \n",
       "2017-01-05                      NaN        NaN  \n",
       "2017-01-06                      NaN        NaN  \n",
       "2017-01-09                      NaN        NaN  \n",
       "2017-01-10                      NaN        NaN  \n",
       "2017-01-11                      NaN        NaN  \n",
       "2017-01-12                      NaN        NaN  \n",
       "2017-01-13                 0.020782        NaN  \n",
       "2017-01-14                 0.109847        NaN  \n",
       "2017-01-16                      NaN        NaN  \n",
       "2017-01-17                      NaN        NaN  \n",
       "2017-01-18                      NaN        NaN  \n",
       "2017-01-19                      NaN        NaN  \n",
       "2017-01-20                      NaN    0.47737  "
      ]
     },
     "execution_count": 78,
     "metadata": {},
     "output_type": "execute_result"
    }
   ],
   "source": [
    "new_table.filter(like='%')"
   ]
  },
  {
   "cell_type": "code",
   "execution_count": 79,
   "metadata": {},
   "outputs": [
    {
     "data": {
      "text/plain": [
       "<AxesSubplot:xlabel='INTERNAL_ORG_ORIGINAL_RK', ylabel='APPLICATION_DT'>"
      ]
     },
     "execution_count": 79,
     "metadata": {},
     "output_type": "execute_result"
    },
    {
     "data": {
      "image/png": "[encoded data removed]",
      "text/plain": [
       "<Figure size 432x288 with 2 Axes>"
      ]
     },
     "metadata": {
      "needs_background": "light"
     },
     "output_type": "display_data"
    }
   ],
   "source": [
    "seaborn.heatmap(new_table.filter(like='%'))"
   ]
  },
  {
   "cell_type": "code",
   "execution_count": 85,
   "metadata": {},
   "outputs": [
    {
     "data": {
      "text/plain": [
       "<AxesSubplot:xlabel='INTERNAL_ORG_ORIGINAL_RK', ylabel='APPLICATION_DT'>"
      ]
     },
     "execution_count": 85,
     "metadata": {},
     "output_type": "execute_result"
    },
    {
     "data": {
      "image/png": "[encoded data removed]",
      "text/plain": [
       "<Figure size 432x288 with 1 Axes>"
      ]
     },
     "metadata": {
      "needs_background": "light"
     },
     "output_type": "display_data"
    }
   ],
   "source": [
    "seaborn.scatterplot(data=grouped_data, x='INTERNAL_ORG_ORIGINAL_RK', y='APPLICATION_DT', hue='LOAN_AMOUNT')"
   ]
  },
  {
   "cell_type": "code",
   "execution_count": 78,
   "metadata": {},
   "outputs": [
    {
     "data": {
      "text/plain": [
       "<AxesSubplot:xlabel='INTERNAL_ORG_ORIGINAL_RK', ylabel='APPLICATION_DT'>"
      ]
     },
     "execution_count": 78,
     "metadata": {},
     "output_type": "execute_result"
    },
    {
     "data": {
      "image/png": "[encoded data removed]",
      "text/plain": [
       "<Figure size 432x288 with 2 Axes>"
      ]
     },
     "metadata": {
      "needs_background": "light"
     },
     "output_type": "display_data"
    }
   ],
   "source": [
    "seaborn.heatmap(pivot.iloc[0:10, 0:10])"
   ]
  },
  {
   "cell_type": "code",
   "execution_count": 48,
   "metadata": {},
   "outputs": [],
   "source": [
    "# nw_df = new_df['APPLICATION_DT'][1]\n",
    "# print(nw_df)\n",
    "n_df = new_df[new_df['APPLICATION_DT']==nw_df]"
   ]
  },
  {
   "cell_type": "code",
   "execution_count": 49,
   "metadata": {},
   "outputs": [
    {
     "data": {
      "text/plain": [
       "<AxesSubplot:xlabel='INTERNAL_ORG_ORIGINAL_RK', ylabel='LOAN_AMOUNT'>"
      ]
     },
     "execution_count": 49,
     "metadata": {},
     "output_type": "execute_result"
    },
    {
     "data": {
      "image/png": "[encoded data removed]",
      "text/plain": [
       "<Figure size 432x288 with 1 Axes>"
      ]
     },
     "metadata": {
      "needs_background": "light"
     },
     "output_type": "display_data"
    }
   ],
   "source": [
    "seaborn.barplot(x=n_df['INTERNAL_ORG_ORIGINAL_RK'], y=n_df['LOAN_AMOUNT'])"
   ]
  },
  {
   "cell_type": "code",
   "execution_count": null,
   "metadata": {},
   "outputs": [],
   "source": []
  },
  {
   "cell_type": "code",
   "execution_count": null,
   "metadata": {},
   "outputs": [],
   "source": []
  }
 ],
 "metadata": {
  "kernelspec": {
   "display_name": "Python 3",
   "language": "python",
   "name": "python3"
  },
  "language_info": {
   "codemirror_mode": {
    "name": "ipython",
    "version": 3
   },
   "file_extension": ".py",
   "mimetype": "text/x-python",
   "name": "python",
   "nbconvert_exporter": "python",
   "pygments_lexer": "ipython3",
   "version": "3.8.2"
  }
 },
 "nbformat": 4,
 "nbformat_minor": 4
}
